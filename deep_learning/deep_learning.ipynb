{
 "cells": [
  {
   "cell_type": "code",
   "execution_count": 1,
   "id": "d00ddc44-1c6e-4851-8765-23e550e5cfdc",
   "metadata": {
    "execution": {
     "iopub.execute_input": "2025-09-09T09:03:34.380042Z",
     "iopub.status.busy": "2025-09-09T09:03:34.379811Z",
     "iopub.status.idle": "2025-09-09T09:03:45.348716Z",
     "shell.execute_reply": "2025-09-09T09:03:45.347733Z",
     "shell.execute_reply.started": "2025-09-09T09:03:34.380017Z"
    },
    "trusted": true
   },
   "outputs": [
    {
     "name": "stdout",
     "output_type": "stream",
     "text": [
      "Collecting underthesea\n",
      "  Downloading underthesea-6.8.4-py3-none-any.whl.metadata (15 kB)\n",
      "Requirement already satisfied: Click>=6.0 in /usr/local/lib/python3.11/dist-packages (from underthesea) (8.2.1)\n",
      "Collecting python-crfsuite>=0.9.6 (from underthesea)\n",
      "  Downloading python_crfsuite-0.9.11-cp311-cp311-manylinux_2_17_x86_64.manylinux2014_x86_64.whl.metadata (4.3 kB)\n",
      "Requirement already satisfied: nltk in /usr/local/lib/python3.11/dist-packages (from underthesea) (3.9.1)\n",
      "Requirement already satisfied: tqdm in /usr/local/lib/python3.11/dist-packages (from underthesea) (4.67.1)\n",
      "Requirement already satisfied: requests in /usr/local/lib/python3.11/dist-packages (from underthesea) (2.32.4)\n",
      "Requirement already satisfied: joblib in /usr/local/lib/python3.11/dist-packages (from underthesea) (1.5.1)\n",
      "Requirement already satisfied: scikit-learn in /usr/local/lib/python3.11/dist-packages (from underthesea) (1.2.2)\n",
      "Requirement already satisfied: PyYAML in /usr/local/lib/python3.11/dist-packages (from underthesea) (6.0.2)\n",
      "Collecting underthesea-core==1.0.4 (from underthesea)\n",
      "  Downloading underthesea_core-1.0.4-cp311-cp311-manylinux2010_x86_64.whl.metadata (1.7 kB)\n",
      "Requirement already satisfied: regex>=2021.8.3 in /usr/local/lib/python3.11/dist-packages (from nltk->underthesea) (2024.11.6)\n",
      "Requirement already satisfied: charset_normalizer<4,>=2 in /usr/local/lib/python3.11/dist-packages (from requests->underthesea) (3.4.2)\n",
      "Requirement already satisfied: idna<4,>=2.5 in /usr/local/lib/python3.11/dist-packages (from requests->underthesea) (3.10)\n",
      "Requirement already satisfied: urllib3<3,>=1.21.1 in /usr/local/lib/python3.11/dist-packages (from requests->underthesea) (2.5.0)\n",
      "Requirement already satisfied: certifi>=2017.4.17 in /usr/local/lib/python3.11/dist-packages (from requests->underthesea) (2025.6.15)\n",
      "Requirement already satisfied: numpy>=1.17.3 in /usr/local/lib/python3.11/dist-packages (from scikit-learn->underthesea) (1.26.4)\n",
      "Requirement already satisfied: scipy>=1.3.2 in /usr/local/lib/python3.11/dist-packages (from scikit-learn->underthesea) (1.15.3)\n",
      "Requirement already satisfied: threadpoolctl>=2.0.0 in /usr/local/lib/python3.11/dist-packages (from scikit-learn->underthesea) (3.6.0)\n",
      "Requirement already satisfied: mkl_fft in /usr/local/lib/python3.11/dist-packages (from numpy>=1.17.3->scikit-learn->underthesea) (1.3.8)\n",
      "Requirement already satisfied: mkl_random in /usr/local/lib/python3.11/dist-packages (from numpy>=1.17.3->scikit-learn->underthesea) (1.2.4)\n",
      "Requirement already satisfied: mkl_umath in /usr/local/lib/python3.11/dist-packages (from numpy>=1.17.3->scikit-learn->underthesea) (0.1.1)\n",
      "Requirement already satisfied: mkl in /usr/local/lib/python3.11/dist-packages (from numpy>=1.17.3->scikit-learn->underthesea) (2025.2.0)\n",
      "Requirement already satisfied: tbb4py in /usr/local/lib/python3.11/dist-packages (from numpy>=1.17.3->scikit-learn->underthesea) (2022.2.0)\n",
      "Requirement already satisfied: mkl-service in /usr/local/lib/python3.11/dist-packages (from numpy>=1.17.3->scikit-learn->underthesea) (2.4.1)\n",
      "Requirement already satisfied: intel-openmp<2026,>=2024 in /usr/local/lib/python3.11/dist-packages (from mkl->numpy>=1.17.3->scikit-learn->underthesea) (2024.2.0)\n",
      "Requirement already satisfied: tbb==2022.* in /usr/local/lib/python3.11/dist-packages (from mkl->numpy>=1.17.3->scikit-learn->underthesea) (2022.2.0)\n",
      "Requirement already satisfied: tcmlib==1.* in /usr/local/lib/python3.11/dist-packages (from tbb==2022.*->mkl->numpy>=1.17.3->scikit-learn->underthesea) (1.4.0)\n",
      "Requirement already satisfied: intel-cmplr-lib-rt in /usr/local/lib/python3.11/dist-packages (from mkl_umath->numpy>=1.17.3->scikit-learn->underthesea) (2024.2.0)\n",
      "Requirement already satisfied: intel-cmplr-lib-ur==2024.2.0 in /usr/local/lib/python3.11/dist-packages (from intel-openmp<2026,>=2024->mkl->numpy>=1.17.3->scikit-learn->underthesea) (2024.2.0)\n",
      "Downloading underthesea-6.8.4-py3-none-any.whl (20.9 MB)\n",
      "\u001b[2K   \u001b[90m━━━━━━━━━━━━━━━━━━━━━━━━━━━━━━━━━━━━━━━━\u001b[0m \u001b[32m20.9/20.9 MB\u001b[0m \u001b[31m79.2 MB/s\u001b[0m eta \u001b[36m0:00:00\u001b[0m:00:01\u001b[0m00:01\u001b[0m\n",
      "\u001b[?25hDownloading underthesea_core-1.0.4-cp311-cp311-manylinux2010_x86_64.whl (657 kB)\n",
      "\u001b[2K   \u001b[90m━━━━━━━━━━━━━━━━━━━━━━━━━━━━━━━━━━━━━━━━\u001b[0m \u001b[32m657.8/657.8 kB\u001b[0m \u001b[31m32.8 MB/s\u001b[0m eta \u001b[36m0:00:00\u001b[0m\n",
      "\u001b[?25hDownloading python_crfsuite-0.9.11-cp311-cp311-manylinux_2_17_x86_64.manylinux2014_x86_64.whl (1.3 MB)\n",
      "\u001b[2K   \u001b[90m━━━━━━━━━━━━━━━━━━━━━━━━━━━━━━━━━━━━━━━━\u001b[0m \u001b[32m1.3/1.3 MB\u001b[0m \u001b[31m48.2 MB/s\u001b[0m eta \u001b[36m0:00:00\u001b[0m\n",
      "\u001b[?25hInstalling collected packages: underthesea-core, python-crfsuite, underthesea\n",
      "Successfully installed python-crfsuite-0.9.11 underthesea-6.8.4 underthesea-core-1.0.4\n",
      "  Preparing metadata (setup.py) ... \u001b[?25l\u001b[?25hdone\n",
      "  Building wheel for pandarallel (setup.py) ... \u001b[?25l\u001b[?25hdone\n"
     ]
    }
   ],
   "source": [
    "!pip install underthesea \n",
    "!pip -q install pandarallel"
   ]
  },
  {
   "cell_type": "code",
   "execution_count": 2,
   "id": "eb92edd4-c9b6-4f2a-aa81-26361000c4d6",
   "metadata": {
    "execution": {
     "iopub.execute_input": "2025-09-09T09:03:45.351041Z",
     "iopub.status.busy": "2025-09-09T09:03:45.350821Z",
     "iopub.status.idle": "2025-09-09T09:03:54.295340Z",
     "shell.execute_reply": "2025-09-09T09:03:54.294794Z",
     "shell.execute_reply.started": "2025-09-09T09:03:45.351020Z"
    },
    "trusted": true
   },
   "outputs": [],
   "source": [
    "import pandas as pd\n",
    "import numpy as np\n",
    "import torch\n",
    "import torch.nn as nn\n",
    "from torch.utils.data import Dataset, DataLoader\n",
    "from torch.nn.utils.rnn import pad_sequence\n",
    "from collections import Counter\n",
    "from sklearn.preprocessing import LabelEncoder\n",
    "from sklearn.metrics import classification_report, confusion_matrix\n",
    "import matplotlib.pyplot as plt\n",
    "from collections import Counter\n",
    "import json\n",
    "import re\n",
    "from underthesea import text_normalize, word_tokenize\n",
    "from pandarallel import pandarallel\n",
    "from multiprocessing import cpu_count\n",
    "from sklearn.model_selection import train_test_split"
   ]
  },
  {
   "cell_type": "code",
   "execution_count": 3,
   "id": "dfe0655e-2836-4f56-9f67-98ca8fcab506",
   "metadata": {
    "execution": {
     "iopub.execute_input": "2025-09-09T09:03:54.296562Z",
     "iopub.status.busy": "2025-09-09T09:03:54.296078Z",
     "iopub.status.idle": "2025-09-09T09:03:54.301219Z",
     "shell.execute_reply": "2025-09-09T09:03:54.300565Z",
     "shell.execute_reply.started": "2025-09-09T09:03:54.296533Z"
    },
    "trusted": true
   },
   "outputs": [],
   "source": [
    "train_path = \"/kaggle/input/data-nlp-30k/train.csv\"\n",
    "test_path = \"/kaggle/input/data-nlp-30k/test.csv\"\n",
    "text_col = \"Text_Processing\"\n",
    "label_col = \"Labels\"\n",
    "stopwords_path = \"/kaggle/input/vietnamese-stopwords/vietnamese-stopwords-dash.txt\"\n",
    "\n",
    "# vocab\n",
    "max_vocab = 50000\n",
    "min_freq = 1\n",
    "PAD = 0\n",
    "OOV = 1\n",
    "\n",
    "# training\n",
    "batch_size = 64\n",
    "emb_dim = 128\n",
    "hidden_dim = 128\n",
    "dropout = 0.3\n",
    "lr = 2e-3\n",
    "epochs = 10\n",
    "patience_epoch = 5\n",
    "num_workers = 4\n",
    "\n",
    "# device\n",
    "device = \"cuda\" if torch.cuda.is_available() else \"cpu\""
   ]
  },
  {
   "cell_type": "markdown",
   "id": "d5f9eb0b-8906-45ee-a531-604729b45695",
   "metadata": {},
   "source": [
    "# LOAD DATA"
   ]
  },
  {
   "cell_type": "code",
   "execution_count": 4,
   "id": "d4a03fb0-4ca7-41f9-8844-e3c8a2b53737",
   "metadata": {
    "execution": {
     "iopub.execute_input": "2025-09-09T09:03:54.302871Z",
     "iopub.status.busy": "2025-09-09T09:03:54.301968Z",
     "iopub.status.idle": "2025-09-09T09:04:01.702458Z",
     "shell.execute_reply": "2025-09-09T09:04:01.701693Z",
     "shell.execute_reply.started": "2025-09-09T09:03:54.302841Z"
    },
    "trusted": true
   },
   "outputs": [],
   "source": [
    "train_df = pd.read_csv(train_path)\n",
    "test_df  = pd.read_csv(test_path)"
   ]
  },
  {
   "cell_type": "code",
   "execution_count": 5,
   "id": "78477acf-8f90-4ca0-a5c1-46e5edb4cb22",
   "metadata": {
    "execution": {
     "iopub.execute_input": "2025-09-09T09:04:01.704979Z",
     "iopub.status.busy": "2025-09-09T09:04:01.704705Z",
     "iopub.status.idle": "2025-09-09T09:04:01.730932Z",
     "shell.execute_reply": "2025-09-09T09:04:01.730240Z",
     "shell.execute_reply.started": "2025-09-09T09:04:01.704960Z"
    },
    "trusted": true
   },
   "outputs": [
    {
     "data": {
      "text/html": [
       "<div>\n",
       "<style scoped>\n",
       "    .dataframe tbody tr th:only-of-type {\n",
       "        vertical-align: middle;\n",
       "    }\n",
       "\n",
       "    .dataframe tbody tr th {\n",
       "        vertical-align: top;\n",
       "    }\n",
       "\n",
       "    .dataframe thead th {\n",
       "        text-align: right;\n",
       "    }\n",
       "</style>\n",
       "<table border=\"1\" class=\"dataframe\">\n",
       "  <thead>\n",
       "    <tr style=\"text-align: right;\">\n",
       "      <th></th>\n",
       "      <th>Labels</th>\n",
       "      <th>Text</th>\n",
       "    </tr>\n",
       "  </thead>\n",
       "  <tbody>\n",
       "    <tr>\n",
       "      <th>0</th>\n",
       "      <td>Chinh tri Xa hoi</td>\n",
       "      <td>Thành lập dự án POLICY phòng chống HIV/AIDS ở ...</td>\n",
       "    </tr>\n",
       "    <tr>\n",
       "      <th>1</th>\n",
       "      <td>Chinh tri Xa hoi</td>\n",
       "      <td>Hơn 16.000 khách đến vịnh Nha Trang Theo trực ...</td>\n",
       "    </tr>\n",
       "    <tr>\n",
       "      <th>2</th>\n",
       "      <td>Chinh tri Xa hoi</td>\n",
       "      <td>TPHCM: Khai trương dịch vụ lặn biển săn cá mập...</td>\n",
       "    </tr>\n",
       "    <tr>\n",
       "      <th>3</th>\n",
       "      <td>Chinh tri Xa hoi</td>\n",
       "      <td>Du lịch VN sẽ có tư vấn nước ngoài Ông Phạm Từ...</td>\n",
       "    </tr>\n",
       "    <tr>\n",
       "      <th>4</th>\n",
       "      <td>Chinh tri Xa hoi</td>\n",
       "      <td>Quy chế tuyển sinh 2006: Không làm tròn điểm t...</td>\n",
       "    </tr>\n",
       "    <tr>\n",
       "      <th>...</th>\n",
       "      <td>...</td>\n",
       "      <td>...</td>\n",
       "    </tr>\n",
       "    <tr>\n",
       "      <th>33754</th>\n",
       "      <td>Vi tinh</td>\n",
       "      <td>Điện thoại di động tương lai trông như thế nào...</td>\n",
       "    </tr>\n",
       "    <tr>\n",
       "      <th>33755</th>\n",
       "      <td>Vi tinh</td>\n",
       "      <td>Internet sẽ tăng tốc 1.000 lần \\nTrong tương l...</td>\n",
       "    </tr>\n",
       "    <tr>\n",
       "      <th>33756</th>\n",
       "      <td>Vi tinh</td>\n",
       "      <td>Phần lớn thế giới thứ 3 thất bại với chính phủ...</td>\n",
       "    </tr>\n",
       "    <tr>\n",
       "      <th>33757</th>\n",
       "      <td>Vi tinh</td>\n",
       "      <td>'Doom 3' giành chiến thắng kép \\nTrò chơi hành...</td>\n",
       "    </tr>\n",
       "    <tr>\n",
       "      <th>33758</th>\n",
       "      <td>Vi tinh</td>\n",
       "      <td>Lỗi về Window Media Player (1)\\nTôi đang dùng ...</td>\n",
       "    </tr>\n",
       "  </tbody>\n",
       "</table>\n",
       "<p>33759 rows × 2 columns</p>\n",
       "</div>"
      ],
      "text/plain": [
       "                 Labels                                               Text\n",
       "0      Chinh tri Xa hoi  Thành lập dự án POLICY phòng chống HIV/AIDS ở ...\n",
       "1      Chinh tri Xa hoi  Hơn 16.000 khách đến vịnh Nha Trang Theo trực ...\n",
       "2      Chinh tri Xa hoi  TPHCM: Khai trương dịch vụ lặn biển săn cá mập...\n",
       "3      Chinh tri Xa hoi  Du lịch VN sẽ có tư vấn nước ngoài Ông Phạm Từ...\n",
       "4      Chinh tri Xa hoi  Quy chế tuyển sinh 2006: Không làm tròn điểm t...\n",
       "...                 ...                                                ...\n",
       "33754           Vi tinh  Điện thoại di động tương lai trông như thế nào...\n",
       "33755           Vi tinh  Internet sẽ tăng tốc 1.000 lần \\nTrong tương l...\n",
       "33756           Vi tinh  Phần lớn thế giới thứ 3 thất bại với chính phủ...\n",
       "33757           Vi tinh  'Doom 3' giành chiến thắng kép \\nTrò chơi hành...\n",
       "33758           Vi tinh  Lỗi về Window Media Player (1)\\nTôi đang dùng ...\n",
       "\n",
       "[33759 rows x 2 columns]"
      ]
     },
     "execution_count": 5,
     "metadata": {},
     "output_type": "execute_result"
    }
   ],
   "source": [
    "train_df"
   ]
  },
  {
   "cell_type": "code",
   "execution_count": 6,
   "id": "2caaffc2-faf7-49da-a3a8-c9b0a1678515",
   "metadata": {
    "execution": {
     "iopub.execute_input": "2025-09-09T09:04:01.731946Z",
     "iopub.status.busy": "2025-09-09T09:04:01.731694Z",
     "iopub.status.idle": "2025-09-09T09:04:01.774081Z",
     "shell.execute_reply": "2025-09-09T09:04:01.773447Z",
     "shell.execute_reply.started": "2025-09-09T09:04:01.731929Z"
    },
    "trusted": true
   },
   "outputs": [
    {
     "data": {
      "text/html": [
       "<div>\n",
       "<style scoped>\n",
       "    .dataframe tbody tr th:only-of-type {\n",
       "        vertical-align: middle;\n",
       "    }\n",
       "\n",
       "    .dataframe tbody tr th {\n",
       "        vertical-align: top;\n",
       "    }\n",
       "\n",
       "    .dataframe thead th {\n",
       "        text-align: right;\n",
       "    }\n",
       "</style>\n",
       "<table border=\"1\" class=\"dataframe\">\n",
       "  <thead>\n",
       "    <tr style=\"text-align: right;\">\n",
       "      <th></th>\n",
       "      <th>Labels</th>\n",
       "      <th>Text</th>\n",
       "    </tr>\n",
       "  </thead>\n",
       "  <tbody>\n",
       "    <tr>\n",
       "      <th>0</th>\n",
       "      <td>Chinh tri Xa hoi</td>\n",
       "      <td>Mạo hiểm rừng Đa Mi Cuộc hành quân khám phá th...</td>\n",
       "    </tr>\n",
       "    <tr>\n",
       "      <th>1</th>\n",
       "      <td>Chinh tri Xa hoi</td>\n",
       "      <td>Tàu du lịch cao tốc Cần Thơ - Phnom Penh Công ...</td>\n",
       "    </tr>\n",
       "    <tr>\n",
       "      <th>2</th>\n",
       "      <td>Chinh tri Xa hoi</td>\n",
       "      <td>Miền Trung được mùa khách Thái Đoàn du khách T...</td>\n",
       "    </tr>\n",
       "    <tr>\n",
       "      <th>3</th>\n",
       "      <td>Chinh tri Xa hoi</td>\n",
       "      <td>7 kỳ quan mới của thế giới Cầu Akashi - Kaikyo...</td>\n",
       "    </tr>\n",
       "    <tr>\n",
       "      <th>4</th>\n",
       "      <td>Chinh tri Xa hoi</td>\n",
       "      <td>Khối A thi được mấy trường? Thi khối A vào ĐH ...</td>\n",
       "    </tr>\n",
       "    <tr>\n",
       "      <th>...</th>\n",
       "      <td>...</td>\n",
       "      <td>...</td>\n",
       "    </tr>\n",
       "    <tr>\n",
       "      <th>50368</th>\n",
       "      <td>Vi tinh</td>\n",
       "      <td>Phần mềm chống tải nhạc bất hợp pháp\\nNhóm ngh...</td>\n",
       "    </tr>\n",
       "    <tr>\n",
       "      <th>50369</th>\n",
       "      <td>Vi tinh</td>\n",
       "      <td>Linux tăng ảnh hưởng trên thị trường máy chủ\\n...</td>\n",
       "    </tr>\n",
       "    <tr>\n",
       "      <th>50370</th>\n",
       "      <td>Vi tinh</td>\n",
       "      <td>Napster phát không máy nghe nhạc\\nCông ty phát...</td>\n",
       "    </tr>\n",
       "    <tr>\n",
       "      <th>50371</th>\n",
       "      <td>Vi tinh</td>\n",
       "      <td>Intel giới thiệu chip và chipset chuyên biệt h...</td>\n",
       "    </tr>\n",
       "    <tr>\n",
       "      <th>50372</th>\n",
       "      <td>Vi tinh</td>\n",
       "      <td>Yahoo lại bị trì trệ\\nLần thứ 2 trong chưa đầy...</td>\n",
       "    </tr>\n",
       "  </tbody>\n",
       "</table>\n",
       "<p>50373 rows × 2 columns</p>\n",
       "</div>"
      ],
      "text/plain": [
       "                 Labels                                               Text\n",
       "0      Chinh tri Xa hoi  Mạo hiểm rừng Đa Mi Cuộc hành quân khám phá th...\n",
       "1      Chinh tri Xa hoi  Tàu du lịch cao tốc Cần Thơ - Phnom Penh Công ...\n",
       "2      Chinh tri Xa hoi  Miền Trung được mùa khách Thái Đoàn du khách T...\n",
       "3      Chinh tri Xa hoi  7 kỳ quan mới của thế giới Cầu Akashi - Kaikyo...\n",
       "4      Chinh tri Xa hoi  Khối A thi được mấy trường? Thi khối A vào ĐH ...\n",
       "...                 ...                                                ...\n",
       "50368           Vi tinh  Phần mềm chống tải nhạc bất hợp pháp\\nNhóm ngh...\n",
       "50369           Vi tinh  Linux tăng ảnh hưởng trên thị trường máy chủ\\n...\n",
       "50370           Vi tinh  Napster phát không máy nghe nhạc\\nCông ty phát...\n",
       "50371           Vi tinh  Intel giới thiệu chip và chipset chuyên biệt h...\n",
       "50372           Vi tinh  Yahoo lại bị trì trệ\\nLần thứ 2 trong chưa đầy...\n",
       "\n",
       "[50373 rows x 2 columns]"
      ]
     },
     "execution_count": 6,
     "metadata": {},
     "output_type": "execute_result"
    }
   ],
   "source": [
    "test_df"
   ]
  },
  {
   "cell_type": "markdown",
   "id": "131fc7c7-7b13-4b86-8e2b-44681931a777",
   "metadata": {},
   "source": [
    "# PREPROCESSING"
   ]
  },
  {
   "cell_type": "code",
   "execution_count": 7,
   "id": "3e4cae5b-59df-4fe0-b671-76ce0b69cbd1",
   "metadata": {
    "execution": {
     "iopub.execute_input": "2025-09-09T09:04:01.775079Z",
     "iopub.status.busy": "2025-09-09T09:04:01.774802Z",
     "iopub.status.idle": "2025-09-09T09:04:01.787786Z",
     "shell.execute_reply": "2025-09-09T09:04:01.787077Z",
     "shell.execute_reply.started": "2025-09-09T09:04:01.775053Z"
    },
    "trusted": true
   },
   "outputs": [],
   "source": [
    "class Preprocessing:\n",
    "    def __init__(self, file_path):\n",
    "        self.stopwords = self.read_stopwords(file_path)\n",
    "\n",
    "        # compile regex 1 lần\n",
    "        self.re_k     = re.compile(r'\\b(\\d+)k\\b')\n",
    "        self.re_pcent = re.compile(r'\\b(\\d+)%\\b')\n",
    "        self.re_m     = re.compile(r'\\b(\\d+)m\\b')\n",
    "        self.re_s     = re.compile(r'\\b(\\d+)s\\b')\n",
    "        self.re_min   = re.compile(r\"\\b(\\d+)'\\b\")\n",
    "        self.re_h     = re.compile(r'\\b(\\d+)h\\b')\n",
    "        self.re_non   = re.compile(r'[^0-9a-zA-ZÀ-ỹ\\s]')\n",
    "\n",
    "    def read_stopwords(self, file_path):\n",
    "        with open(file_path, 'r', encoding='utf-8') as f:\n",
    "            return set(f.read().splitlines())\n",
    "\n",
    "    def preprocessing_text(self, text):\n",
    "        t = str(text).lower().strip()\n",
    "        t = self.re_k.sub(r'\\1 ngàn', t)\n",
    "        t = self.re_pcent.sub(r'\\1 phần trăm', t)\n",
    "        t = self.re_m.sub(r'\\1 mét', t)\n",
    "        t = self.re_s.sub(r'\\1 giây', t)\n",
    "        t = self.re_min.sub(r'\\1 phút', t)\n",
    "        t = self.re_h.sub(r'\\1 giờ', t)\n",
    "        t = self.re_non.sub(' ', t)\n",
    "        tokens = [w for w in t.split() if w not in self.stopwords]\n",
    "        return \" \".join(tokens)\n"
   ]
  },
  {
   "cell_type": "code",
   "execution_count": 8,
   "id": "1c96e4b3-3ec2-4140-aa9b-fa7781a71cdf",
   "metadata": {
    "execution": {
     "iopub.execute_input": "2025-09-09T09:04:01.788823Z",
     "iopub.status.busy": "2025-09-09T09:04:01.788472Z",
     "iopub.status.idle": "2025-09-09T09:04:27.506228Z",
     "shell.execute_reply": "2025-09-09T09:04:27.505556Z",
     "shell.execute_reply.started": "2025-09-09T09:04:01.788774Z"
    },
    "trusted": true
   },
   "outputs": [
    {
     "name": "stdout",
     "output_type": "stream",
     "text": [
      "INFO: Pandarallel will run on 4 workers.\n",
      "INFO: Pandarallel will use Memory file system to transfer data between the main process and workers.\n"
     ]
    },
    {
     "data": {
      "application/vnd.jupyter.widget-view+json": {
       "model_id": "81284298c001412ebf768290589c2eed",
       "version_major": 2,
       "version_minor": 0
      },
      "text/plain": [
       "VBox(children=(HBox(children=(IntProgress(value=0, description='0.00%', max=8440), Label(value='0 / 8440'))), …"
      ]
     },
     "metadata": {},
     "output_type": "display_data"
    },
    {
     "data": {
      "application/vnd.jupyter.widget-view+json": {
       "model_id": "bc5fb1425f464e618d29f52b76d96650",
       "version_major": 2,
       "version_minor": 0
      },
      "text/plain": [
       "VBox(children=(HBox(children=(IntProgress(value=0, description='0.00%', max=12594), Label(value='0 / 12594')))…"
      ]
     },
     "metadata": {},
     "output_type": "display_data"
    }
   ],
   "source": [
    "pandarallel.initialize(progress_bar=True, nb_workers=cpu_count())\n",
    "\n",
    "pre = Preprocessing(stopwords_path)\n",
    "\n",
    "train_df[\"Text_Processing\"] = (\n",
    "    train_df[\"Text\"].astype(str).parallel_apply(pre.preprocessing_text)\n",
    ")\n",
    "test_df[\"Text_Processing\"] = (\n",
    "    test_df[\"Text\"].astype(str).parallel_apply(pre.preprocessing_text)\n",
    ")"
   ]
  },
  {
   "cell_type": "code",
   "execution_count": 9,
   "id": "3aa9bee2-d3f0-4a3b-a0ea-55cc9ee69242",
   "metadata": {
    "execution": {
     "iopub.execute_input": "2025-09-09T09:04:27.508020Z",
     "iopub.status.busy": "2025-09-09T09:04:27.507746Z",
     "iopub.status.idle": "2025-09-09T09:04:27.613018Z",
     "shell.execute_reply": "2025-09-09T09:04:27.612410Z",
     "shell.execute_reply.started": "2025-09-09T09:04:27.507997Z"
    },
    "trusted": true
   },
   "outputs": [],
   "source": [
    "train_df, val_df = train_test_split(train_df, test_size=0.2, random_state=42, stratify=train_df[\"Labels\"])"
   ]
  },
  {
   "cell_type": "code",
   "execution_count": 10,
   "id": "afd63942-a1e7-4d8a-9237-9295aabb3eee",
   "metadata": {
    "execution": {
     "iopub.execute_input": "2025-09-09T09:04:27.614047Z",
     "iopub.status.busy": "2025-09-09T09:04:27.613786Z",
     "iopub.status.idle": "2025-09-09T09:04:27.623911Z",
     "shell.execute_reply": "2025-09-09T09:04:27.623178Z",
     "shell.execute_reply.started": "2025-09-09T09:04:27.614021Z"
    },
    "trusted": true
   },
   "outputs": [
    {
     "data": {
      "text/html": [
       "<div>\n",
       "<style scoped>\n",
       "    .dataframe tbody tr th:only-of-type {\n",
       "        vertical-align: middle;\n",
       "    }\n",
       "\n",
       "    .dataframe tbody tr th {\n",
       "        vertical-align: top;\n",
       "    }\n",
       "\n",
       "    .dataframe thead th {\n",
       "        text-align: right;\n",
       "    }\n",
       "</style>\n",
       "<table border=\"1\" class=\"dataframe\">\n",
       "  <thead>\n",
       "    <tr style=\"text-align: right;\">\n",
       "      <th></th>\n",
       "      <th>Labels</th>\n",
       "      <th>Text</th>\n",
       "      <th>Text_Processing</th>\n",
       "    </tr>\n",
       "  </thead>\n",
       "  <tbody>\n",
       "    <tr>\n",
       "      <th>11846</th>\n",
       "      <td>Kinh doanh</td>\n",
       "      <td>Hàng dệt may sang Mỹ phải được cấp visa điện t...</td>\n",
       "      <td>hàng dệt may mỹ visa điện tử phủ việt nam mỹ k...</td>\n",
       "    </tr>\n",
       "    <tr>\n",
       "      <th>3391</th>\n",
       "      <td>Chinh tri Xa hoi</td>\n",
       "      <td>Ông chủ tịch làm... \"ăn mày\"\\nSinh ra ở làng q...</td>\n",
       "      <td>chủ tịch mày sinh làng quê nghèo huyện miền nú...</td>\n",
       "    </tr>\n",
       "    <tr>\n",
       "      <th>6002</th>\n",
       "      <td>Doi song</td>\n",
       "      <td>Chị Hương hãy cho anh ấy một cơ hội\\nNếu chị v...</td>\n",
       "      <td>hương hội thương hội hội hy vọng quyết định su...</td>\n",
       "    </tr>\n",
       "    <tr>\n",
       "      <th>2993</th>\n",
       "      <td>Chinh tri Xa hoi</td>\n",
       "      <td>Quảng Nam, lốc lớn gây thiệt hại nặng tại các ...</td>\n",
       "      <td>quảng nam lốc thiệt hại xã sâu huyện hiệp đức ...</td>\n",
       "    </tr>\n",
       "    <tr>\n",
       "      <th>31705</th>\n",
       "      <td>Vi tinh</td>\n",
       "      <td>Hacker Nga bán rẻ mã nguồn tấn công Windows\\nK...</td>\n",
       "      <td>hacker nga rẻ mã công windows kaspersky lab th...</td>\n",
       "    </tr>\n",
       "    <tr>\n",
       "      <th>...</th>\n",
       "      <td>...</td>\n",
       "      <td>...</td>\n",
       "      <td>...</td>\n",
       "    </tr>\n",
       "    <tr>\n",
       "      <th>2165</th>\n",
       "      <td>Chinh tri Xa hoi</td>\n",
       "      <td>Đại diện của nhiều trường trung học chuyên ngh...</td>\n",
       "      <td>đại diện trường trung học chuyên nghiệp thcn b...</td>\n",
       "    </tr>\n",
       "    <tr>\n",
       "      <th>28277</th>\n",
       "      <td>Van hoa</td>\n",
       "      <td>Miss Iceland đăng quang Hoa hậu thế giới 2005 ...</td>\n",
       "      <td>miss iceland đăng quang hoa hậu giới 2005 trái...</td>\n",
       "    </tr>\n",
       "    <tr>\n",
       "      <th>6913</th>\n",
       "      <td>Doi song</td>\n",
       "      <td>Phương phải nói chuyện với bạn trai của mẹ\\nNế...</td>\n",
       "      <td>phương trai mẹ hoàn cảnh đàn chốt dừng quan hệ...</td>\n",
       "    </tr>\n",
       "    <tr>\n",
       "      <th>26426</th>\n",
       "      <td>The thao</td>\n",
       "      <td>Từ vô địch TP.HCM đến vô địch toàn nước Mỹ\\nNă...</td>\n",
       "      <td>vô địch tp hcm vô địch toàn mỹ 33 phong 20 gắn...</td>\n",
       "    </tr>\n",
       "    <tr>\n",
       "      <th>32096</th>\n",
       "      <td>Vi tinh</td>\n",
       "      <td>12 sự kiện của ngành bưu chính - viễn thông Vi...</td>\n",
       "      <td>12 kiện ngành bưu viễn thông việt nam đứng đầu...</td>\n",
       "    </tr>\n",
       "  </tbody>\n",
       "</table>\n",
       "<p>6752 rows × 3 columns</p>\n",
       "</div>"
      ],
      "text/plain": [
       "                 Labels                                               Text  \\\n",
       "11846        Kinh doanh  Hàng dệt may sang Mỹ phải được cấp visa điện t...   \n",
       "3391   Chinh tri Xa hoi  Ông chủ tịch làm... \"ăn mày\"\\nSinh ra ở làng q...   \n",
       "6002           Doi song  Chị Hương hãy cho anh ấy một cơ hội\\nNếu chị v...   \n",
       "2993   Chinh tri Xa hoi  Quảng Nam, lốc lớn gây thiệt hại nặng tại các ...   \n",
       "31705           Vi tinh  Hacker Nga bán rẻ mã nguồn tấn công Windows\\nK...   \n",
       "...                 ...                                                ...   \n",
       "2165   Chinh tri Xa hoi  Đại diện của nhiều trường trung học chuyên ngh...   \n",
       "28277           Van hoa  Miss Iceland đăng quang Hoa hậu thế giới 2005 ...   \n",
       "6913           Doi song  Phương phải nói chuyện với bạn trai của mẹ\\nNế...   \n",
       "26426          The thao  Từ vô địch TP.HCM đến vô địch toàn nước Mỹ\\nNă...   \n",
       "32096           Vi tinh  12 sự kiện của ngành bưu chính - viễn thông Vi...   \n",
       "\n",
       "                                         Text_Processing  \n",
       "11846  hàng dệt may mỹ visa điện tử phủ việt nam mỹ k...  \n",
       "3391   chủ tịch mày sinh làng quê nghèo huyện miền nú...  \n",
       "6002   hương hội thương hội hội hy vọng quyết định su...  \n",
       "2993   quảng nam lốc thiệt hại xã sâu huyện hiệp đức ...  \n",
       "31705  hacker nga rẻ mã công windows kaspersky lab th...  \n",
       "...                                                  ...  \n",
       "2165   đại diện trường trung học chuyên nghiệp thcn b...  \n",
       "28277  miss iceland đăng quang hoa hậu giới 2005 trái...  \n",
       "6913   phương trai mẹ hoàn cảnh đàn chốt dừng quan hệ...  \n",
       "26426  vô địch tp hcm vô địch toàn mỹ 33 phong 20 gắn...  \n",
       "32096  12 kiện ngành bưu viễn thông việt nam đứng đầu...  \n",
       "\n",
       "[6752 rows x 3 columns]"
      ]
     },
     "execution_count": 10,
     "metadata": {},
     "output_type": "execute_result"
    }
   ],
   "source": [
    "val_df"
   ]
  },
  {
   "cell_type": "code",
   "execution_count": 11,
   "id": "ad2458fb-8881-4db9-999f-4e2a28216b51",
   "metadata": {
    "execution": {
     "iopub.execute_input": "2025-09-09T09:04:27.625075Z",
     "iopub.status.busy": "2025-09-09T09:04:27.624823Z",
     "iopub.status.idle": "2025-09-09T09:04:27.638423Z",
     "shell.execute_reply": "2025-09-09T09:04:27.637748Z",
     "shell.execute_reply.started": "2025-09-09T09:04:27.625024Z"
    },
    "trusted": true
   },
   "outputs": [
    {
     "name": "stdout",
     "output_type": "stream",
     "text": [
      "(27007, 3)\n",
      "(50373, 3)\n",
      "(6752, 3)\n"
     ]
    }
   ],
   "source": [
    "print(train_df.shape)\n",
    "print(test_df.shape)\n",
    "print(val_df.shape)"
   ]
  },
  {
   "cell_type": "code",
   "execution_count": 12,
   "id": "c38ddf5d-8d4e-4580-9010-1d10d89c51f1",
   "metadata": {
    "execution": {
     "iopub.execute_input": "2025-09-09T09:04:27.639582Z",
     "iopub.status.busy": "2025-09-09T09:04:27.639298Z",
     "iopub.status.idle": "2025-09-09T09:04:27.752750Z",
     "shell.execute_reply": "2025-09-09T09:04:27.752171Z",
     "shell.execute_reply.started": "2025-09-09T09:04:27.639558Z"
    },
    "trusted": true
   },
   "outputs": [
    {
     "name": "stdout",
     "output_type": "stream",
     "text": [
      "Classes: ['Chinh tri Xa hoi', 'Doi song', 'Khoa hoc', 'Kinh doanh', 'Phap luat', 'Suc khoe', 'The gioi', 'The thao', 'Van hoa', 'Vi tinh']\n"
     ]
    }
   ],
   "source": [
    "train_df = train_df.dropna(subset=[text_col, label_col])\n",
    "val_df   = val_df.dropna(subset=[text_col, label_col])\n",
    "test_df  = test_df.dropna(subset=[text_col, label_col])\n",
    "\n",
    "X_train, y_train_raw = train_df[text_col].astype(str).tolist(), train_df[label_col].astype(str).tolist()\n",
    "X_val,   y_val_raw   = val_df[text_col].astype(str).tolist(),   val_df[label_col].astype(str).tolist()\n",
    "X_test,  y_test_raw  = test_df[text_col].astype(str).tolist(),  test_df[label_col].astype(str).tolist()\n",
    "\n",
    "# Label encoder\n",
    "le = LabelEncoder()\n",
    "y_train = le.fit_transform(y_train_raw)\n",
    "y_val   = le.transform(y_val_raw)\n",
    "y_test  = le.transform(y_test_raw)\n",
    "num_classes = len(le.classes_)\n",
    "print(\"Classes:\", list(le.classes_))"
   ]
  },
  {
   "cell_type": "markdown",
   "id": "cf526c19-02a6-468a-a04d-e89b4d86a6ed",
   "metadata": {},
   "source": [
    "# BUILD VOCAB"
   ]
  },
  {
   "cell_type": "code",
   "execution_count": 13,
   "id": "23cfb044-42b0-4e9a-8bd5-80bc5770b4d9",
   "metadata": {
    "execution": {
     "iopub.execute_input": "2025-09-09T09:04:27.753870Z",
     "iopub.status.busy": "2025-09-09T09:04:27.753602Z",
     "iopub.status.idle": "2025-09-09T09:04:27.765446Z",
     "shell.execute_reply": "2025-09-09T09:04:27.764751Z",
     "shell.execute_reply.started": "2025-09-09T09:04:27.753844Z"
    },
    "trusted": true
   },
   "outputs": [],
   "source": [
    "class Vocab:\n",
    "    def __init__(self, max_size=50000, min_freq=1, pad_token=\"<PAD>\", oov_token=\"<OOV>\"):\n",
    "        self.max_size = max_size\n",
    "        self.min_freq = min_freq\n",
    "        self.pad_token = pad_token\n",
    "        self.oov_token = oov_token\n",
    "        self.pad_idx, self.oov_idx = 0, 1\n",
    "        self.itos = []\n",
    "        self.stoi = {}\n",
    "\n",
    "    def build(self, texts):\n",
    "        counter = Counter()\n",
    "        for s in texts:\n",
    "            counter.update(self.tokenize(s))\n",
    "\n",
    "        most_common = counter.most_common()\n",
    "        if self.min_freq > 1:\n",
    "            most_common = [kv for kv in most_common if kv[1] >= self.min_freq]\n",
    "        most_common = most_common[: self.max_size]\n",
    "\n",
    "        self.itos = [self.pad_token, self.oov_token] + [w for w, _ in most_common]\n",
    "        self.stoi = {w: i for i, w in enumerate(self.itos)}\n",
    "        return self\n",
    "\n",
    "    def tokenize(self, s: str):\n",
    "        return s.strip().split()\n",
    "\n",
    "    def numericalize(self, text):\n",
    "        return [self.stoi.get(tok, self.oov_idx) for tok in self.tokenize(text)]\n",
    "\n",
    "    def denumericalize(self, ids):\n",
    "        return [self.itos[i] if i < len(self.itos) else self.oov_token for i in ids]\n",
    "\n",
    "    def save(self, path=\"vocab.json\"):\n",
    "        with open(path, \"w\", encoding=\"utf-8\") as f:\n",
    "            json.dump({\"itos\": self.itos}, f, ensure_ascii=False)\n",
    "\n",
    "    def load(self, path=\"vocab.json\"):\n",
    "        with open(path, \"r\", encoding=\"utf-8\") as f:\n",
    "            data = json.load(f)\n",
    "            self.itos = data[\"itos\"]\n",
    "            self.stoi = {w: i for i, w in enumerate(self.itos)}\n",
    "        return self\n"
   ]
  },
  {
   "cell_type": "code",
   "execution_count": 14,
   "id": "9b94a689-5a97-43c4-9e3f-fdc3e45715a7",
   "metadata": {
    "execution": {
     "iopub.execute_input": "2025-09-09T09:04:27.768865Z",
     "iopub.status.busy": "2025-09-09T09:04:27.768265Z",
     "iopub.status.idle": "2025-09-09T09:04:29.154958Z",
     "shell.execute_reply": "2025-09-09T09:04:29.154263Z",
     "shell.execute_reply.started": "2025-09-09T09:04:27.768845Z"
    },
    "trusted": true
   },
   "outputs": [
    {
     "name": "stdout",
     "output_type": "stream",
     "text": [
      "NUmber of words in vocab: 50002\n"
     ]
    }
   ],
   "source": [
    "vocab = Vocab(max_size=50000, min_freq=1).build(X_train)\n",
    "print(\"NUmber of words in vocab:\", len(vocab.itos))"
   ]
  },
  {
   "cell_type": "code",
   "execution_count": 15,
   "id": "0bcaea35-cf17-4f67-93c7-5b12f3c515d6",
   "metadata": {
    "execution": {
     "iopub.execute_input": "2025-09-09T09:04:29.156000Z",
     "iopub.status.busy": "2025-09-09T09:04:29.155766Z",
     "iopub.status.idle": "2025-09-09T09:04:29.160474Z",
     "shell.execute_reply": "2025-09-09T09:04:29.159822Z",
     "shell.execute_reply.started": "2025-09-09T09:04:29.155974Z"
    },
    "trusted": true
   },
   "outputs": [
    {
     "name": "stdout",
     "output_type": "stream",
     "text": [
      "[1504, 319, 113, 84]\n",
      "['ronaldo', 'ghi', 'bàn', 'thắng']\n"
     ]
    }
   ],
   "source": [
    "ids = vocab.numericalize(\"ronaldo ghi bàn thắng\")\n",
    "print(ids)\n",
    "print(vocab.denumericalize(ids))"
   ]
  },
  {
   "cell_type": "markdown",
   "id": "0558ac13-285a-4300-8e14-ad326020f718",
   "metadata": {},
   "source": [
    "# DATASET + DATALOADER"
   ]
  },
  {
   "cell_type": "code",
   "execution_count": 16,
   "id": "db738ab9-4e95-4c14-a157-2cb29daffdd2",
   "metadata": {
    "execution": {
     "iopub.execute_input": "2025-09-09T09:04:29.161602Z",
     "iopub.status.busy": "2025-09-09T09:04:29.161339Z",
     "iopub.status.idle": "2025-09-09T09:04:29.179053Z",
     "shell.execute_reply": "2025-09-09T09:04:29.178375Z",
     "shell.execute_reply.started": "2025-09-09T09:04:29.161582Z"
    },
    "trusted": true
   },
   "outputs": [],
   "source": [
    "class TxtClsDataset(Dataset):\n",
    "    def __init__(self, texts, labels, vocab):\n",
    "        self.texts = texts\n",
    "        self.labels = labels\n",
    "        self.vocab = vocab\n",
    "    def __len__(self):\n",
    "        return len(self.texts)\n",
    "    def __getitem__(self, idx):\n",
    "        ids = torch.tensor(self.vocab.numericalize(self.texts[idx]), dtype=torch.long)\n",
    "        y   = torch.tensor(self.labels[idx], dtype=torch.long)\n",
    "        return ids, y\n",
    "\n",
    "def collate_fn(batch):\n",
    "    seqs, ys = zip(*batch)\n",
    "    lengths = torch.tensor([len(s) for s in seqs], dtype=torch.long)\n",
    "    padded = pad_sequence(seqs, batch_first=True, padding_value=PAD)\n",
    "    ys = torch.stack(ys)\n",
    "    return padded, lengths, ys\n",
    "\n",
    "train_dataset = TxtClsDataset(X_train, y_train, vocab)\n",
    "test_dataset = TxtClsDataset(X_test,  y_test, vocab)\n",
    "val_dataset = TxtClsDataset(X_val,   y_val, vocab)"
   ]
  },
  {
   "cell_type": "code",
   "execution_count": 17,
   "id": "611290dc-fa96-45fc-960d-83649f94ddfa",
   "metadata": {
    "execution": {
     "iopub.execute_input": "2025-09-09T09:04:29.180135Z",
     "iopub.status.busy": "2025-09-09T09:04:29.179864Z",
     "iopub.status.idle": "2025-09-09T09:04:29.197709Z",
     "shell.execute_reply": "2025-09-09T09:04:29.197060Z",
     "shell.execute_reply.started": "2025-09-09T09:04:29.180112Z"
    },
    "trusted": true
   },
   "outputs": [],
   "source": [
    "train_loader = DataLoader(train_dataset, batch_size=batch_size, shuffle=True, collate_fn=collate_fn)\n",
    "val_loader = DataLoader(val_dataset, batch_size=batch_size, shuffle=False, collate_fn=collate_fn)\n",
    "test_loader = DataLoader(test_dataset, batch_size=batch_size, shuffle=False, collate_fn=collate_fn)"
   ]
  },
  {
   "cell_type": "markdown",
   "id": "0fb80898-ee31-4b40-b6a6-152a69a90299",
   "metadata": {},
   "source": [
    "# MODEl"
   ]
  },
  {
   "cell_type": "code",
   "execution_count": 18,
   "id": "3a8d6e6d-c571-4491-abe0-83a3d6356103",
   "metadata": {
    "execution": {
     "iopub.execute_input": "2025-09-09T09:04:29.198641Z",
     "iopub.status.busy": "2025-09-09T09:04:29.198373Z",
     "iopub.status.idle": "2025-09-09T09:04:29.517040Z",
     "shell.execute_reply": "2025-09-09T09:04:29.516257Z",
     "shell.execute_reply.started": "2025-09-09T09:04:29.198624Z"
    },
    "trusted": true
   },
   "outputs": [
    {
     "data": {
      "text/plain": [
       "TextClassifier(\n",
       "  (emb): Embedding(50002, 128, padding_idx=0)\n",
       "  (fc1): Linear(in_features=128, out_features=128, bias=True)\n",
       "  (relu): ReLU()\n",
       "  (dropout): Dropout(p=0.3, inplace=False)\n",
       "  (fc2): Linear(in_features=128, out_features=10, bias=True)\n",
       ")"
      ]
     },
     "execution_count": 18,
     "metadata": {},
     "output_type": "execute_result"
    }
   ],
   "source": [
    "class TextClassifier(nn.Module):\n",
    "    def __init__(self, vocab_size, emb_dim, hidden_dim, num_classes, pad_idx=0, dropout=0.3):\n",
    "        super().__init__()\n",
    "        self.emb = nn.Embedding(vocab_size, emb_dim, padding_idx=pad_idx)\n",
    "        self.fc1 = nn.Linear(emb_dim, hidden_dim)\n",
    "        self.relu = nn.ReLU()\n",
    "        self.dropout = nn.Dropout(dropout)\n",
    "        self.fc2 = nn.Linear(hidden_dim, num_classes)\n",
    "\n",
    "    def forward(self, x, lengths):\n",
    "        emb = self.emb(x)  # (B, L, E)\n",
    "        mask = (x != PAD).unsqueeze(-1).float()\n",
    "        summed = (emb * mask).sum(dim=1)       # (B, E)\n",
    "        lengths = lengths.unsqueeze(1).clamp(min=1)\n",
    "        avg = summed / lengths                 # (B, E)\n",
    "        h = self.dropout(self.relu(self.fc1(avg)))\n",
    "        out = self.fc2(h)                      # (B, num_classes)\n",
    "        return out\n",
    "\n",
    "model = TextClassifier(\n",
    "    vocab_size=len(vocab.itos),\n",
    "    emb_dim=emb_dim,\n",
    "    hidden_dim=hidden_dim,\n",
    "    num_classes=num_classes,\n",
    "    pad_idx=PAD,\n",
    "    dropout=dropout\n",
    ").to(device)\n",
    "\n",
    "model"
   ]
  },
  {
   "cell_type": "code",
   "execution_count": 19,
   "id": "1f1c857c-13ca-42f0-99a7-b3ff3e1cbebd",
   "metadata": {
    "execution": {
     "iopub.execute_input": "2025-09-09T09:04:29.518699Z",
     "iopub.status.busy": "2025-09-09T09:04:29.517852Z",
     "iopub.status.idle": "2025-09-09T09:04:32.334201Z",
     "shell.execute_reply": "2025-09-09T09:04:32.333655Z",
     "shell.execute_reply.started": "2025-09-09T09:04:29.518679Z"
    },
    "trusted": true
   },
   "outputs": [],
   "source": [
    "criterion = nn.CrossEntropyLoss()\n",
    "optimizer = torch.optim.Adam(model.parameters(), lr=lr)"
   ]
  },
  {
   "cell_type": "markdown",
   "id": "29d4d445-ae37-4a9b-9423-c3ceb914914a",
   "metadata": {},
   "source": [
    "# TRAIN"
   ]
  },
  {
   "cell_type": "code",
   "execution_count": null,
   "id": "37882fe1-f648-40c2-bc55-6ca79fcffffa",
   "metadata": {
    "trusted": true
   },
   "outputs": [],
   "source": [
    "class Trainer:\n",
    "    def __init__(self, model, criterion, optimizer, device=\"cpu\"):\n",
    "        self.model = model\n",
    "        self.criterion = criterion\n",
    "        self.optimizer = optimizer\n",
    "        self.device = device\n",
    "\n",
    "        # save results\n",
    "        self.train_losses, self.val_losses = [], []\n",
    "        self.train_accs, self.val_accs = [], []\n",
    "        self.best_val_acc = 0.0\n",
    "\n",
    "    def run_epoch(self, loader, train=True):\n",
    "        if train: self.model.train()\n",
    "        else:     self.model.eval()\n",
    "\n",
    "        total_loss, correct, total = 0.0, 0, 0\n",
    "\n",
    "        for x, lengths, y in loader:\n",
    "            x, lengths, y = x.to(self.device), lengths.to(self.device), y.to(self.device)\n",
    "\n",
    "            with torch.set_grad_enabled(train):\n",
    "                logits = self.model(x, lengths)\n",
    "                loss = self.criterion(logits, y)\n",
    "\n",
    "                if train:\n",
    "                    self.optimizer.zero_grad()\n",
    "                    loss.backward()\n",
    "                    self.optimizer.step()\n",
    "\n",
    "            total_loss += loss.item() * y.size(0)\n",
    "            pred = logits.argmax(1)\n",
    "            correct += (pred == y).sum().item()\n",
    "            total += y.size(0)\n",
    "\n",
    "        return total_loss / total, correct / total\n",
    "\n",
    "    def fit(self, train_loader, val_loader, epochs=10, save_path=\"best_model.pt\", patience=3):\n",
    "        patience_counter = 0\n",
    "    \n",
    "        for epoch in range(1, epochs+1):\n",
    "            tr_loss, tr_acc = self.run_epoch(train_loader, train=True)\n",
    "            va_loss, va_acc = self.run_epoch(val_loader, train=False)\n",
    "    \n",
    "            self.train_losses.append(tr_loss); self.train_accs.append(tr_acc)\n",
    "            self.val_losses.append(va_loss);   self.val_accs.append(va_acc)\n",
    "    \n",
    "            print(f\"Epoch {epoch:02d} | Train Loss={tr_loss:.4f}, Acc={tr_acc:.4f} \"\n",
    "                  f\"| Val Loss={va_loss:.4f}, Acc={va_acc:.4f}\")\n",
    "    \n",
    "            if va_acc > self.best_val_acc:\n",
    "                self.best_val_acc = va_acc\n",
    "                torch.save(self.model.state_dict(), save_path)\n",
    "                patience_counter = 0 \n",
    "            else:\n",
    "                patience_counter += 1\n",
    "                if patience_counter >= patience:\n",
    "                    print(f\"Early stopping at epoch {epoch} (no improvement in {patience} epochs).\")\n",
    "                    break\n",
    "\n",
    "    def evaluate(self, loader, label_encoder=None, model_path=\"best_model.pt\"):\n",
    "        self.model.load_state_dict(torch.load(model_path, map_location=self.device))\n",
    "        self.model.eval()\n",
    "\n",
    "        test_loss, test_acc = self.run_epoch(loader, train=False)\n",
    "        print(f\"\\nTest Loss={test_loss:.4f}, Test Acc={test_acc:.4f}\")\n",
    "\n",
    "        # report\n",
    "        all_preds, all_true = [], []\n",
    "        with torch.no_grad():\n",
    "            for x, lengths, y in loader:\n",
    "                x, lengths = x.to(self.device), lengths.to(self.device)\n",
    "                logits = self.model(x, lengths)\n",
    "                preds = logits.argmax(1).cpu().numpy()\n",
    "                all_preds.extend(preds)\n",
    "                all_true.extend(y.numpy())\n",
    "\n",
    "        if label_encoder is not None:\n",
    "            target_names = label_encoder.classes_\n",
    "        else:\n",
    "            target_names = None\n",
    "\n",
    "        print(\"\\nClassification report:\")\n",
    "        print(classification_report(all_true, all_preds, target_names=target_names, digits=4))\n",
    "        print(\"\\nConfusion Matrix:\")\n",
    "        print(confusion_matrix(all_true, all_preds))\n",
    "\n",
    "    def plot_curves(self):\n",
    "        # Loss\n",
    "        plt.figure()\n",
    "        plt.plot(self.train_losses, label=\"Train Loss\")\n",
    "        plt.plot(self.val_losses, label=\"Val Loss\")\n",
    "        plt.xlabel(\"Epoch\"); plt.ylabel(\"Loss\")\n",
    "        plt.legend(); plt.title(\"Loss curve\")\n",
    "        plt.show()\n",
    "\n",
    "        # Accuracy\n",
    "        plt.figure()\n",
    "        plt.plot(self.train_accs, label=\"Train Acc\")\n",
    "        plt.plot(self.val_accs, label=\"Val Acc\")\n",
    "        plt.xlabel(\"Epoch\"); plt.ylabel(\"Accuracy\")\n",
    "        plt.legend(); plt.title(\"Accuracy curve\")\n",
    "        plt.show()"
   ]
  },
  {
   "cell_type": "code",
   "execution_count": 21,
   "id": "1d7785de-e971-41f9-b2b7-34589199734f",
   "metadata": {
    "execution": {
     "iopub.execute_input": "2025-09-09T09:04:32.352587Z",
     "iopub.status.busy": "2025-09-09T09:04:32.351883Z",
     "iopub.status.idle": "2025-09-09T09:05:33.762050Z",
     "shell.execute_reply": "2025-09-09T09:05:33.761370Z",
     "shell.execute_reply.started": "2025-09-09T09:04:32.352563Z"
    },
    "trusted": true
   },
   "outputs": [
    {
     "name": "stdout",
     "output_type": "stream",
     "text": [
      "Epoch 01 | Train Loss=0.8342, Acc=0.7316 | Val Loss=0.4184, Acc=0.8630\n",
      "Epoch 02 | Train Loss=0.3466, Acc=0.8858 | Val Loss=0.3680, Acc=0.8777\n",
      "Epoch 03 | Train Loss=0.2531, Acc=0.9176 | Val Loss=0.3417, Acc=0.8868\n",
      "Epoch 04 | Train Loss=0.1933, Acc=0.9366 | Val Loss=0.3422, Acc=0.8877\n",
      "Epoch 05 | Train Loss=0.1431, Acc=0.9542 | Val Loss=0.3585, Acc=0.8894\n",
      "Epoch 06 | Train Loss=0.1110, Acc=0.9653 | Val Loss=0.3811, Acc=0.8883\n",
      "Epoch 07 | Train Loss=0.0846, Acc=0.9740 | Val Loss=0.3988, Acc=0.8879\n",
      "Epoch 08 | Train Loss=0.0622, Acc=0.9817 | Val Loss=0.4306, Acc=0.8874\n",
      "Epoch 09 | Train Loss=0.0480, Acc=0.9866 | Val Loss=0.4557, Acc=0.8851\n",
      "Epoch 10 | Train Loss=0.0396, Acc=0.9883 | Val Loss=0.4825, Acc=0.8886\n",
      "Early stopping at epoch 10 (no improvement in 5 epochs).\n",
      "\n",
      "Test Loss=0.3316, Test Acc=0.8974\n",
      "\n",
      "Classification report:\n",
      "                  precision    recall  f1-score   support\n",
      "\n",
      "Chinh tri Xa hoi     0.8404    0.8686    0.8543      7567\n",
      "        Doi song     0.6778    0.6871    0.6824      2036\n",
      "        Khoa hoc     0.7549    0.7657    0.7603      2096\n",
      "      Kinh doanh     0.9274    0.8590    0.8919      5276\n",
      "       Phap luat     0.8480    0.9174    0.8813      3788\n",
      "        Suc khoe     0.9304    0.9110    0.9206      5417\n",
      "        The gioi     0.9439    0.9074    0.9253      6716\n",
      "        The thao     0.9805    0.9741    0.9773      6667\n",
      "         Van hoa     0.9209    0.9256    0.9232      6250\n",
      "         Vi tinh     0.9151    0.9456    0.9301      4560\n",
      "\n",
      "        accuracy                         0.8974     50373\n",
      "       macro avg     0.8739    0.8762    0.8747     50373\n",
      "    weighted avg     0.8987    0.8974    0.8977     50373\n",
      "\n",
      "\n",
      "Confusion Matrix:\n",
      "[[6573  101   90  136  315   93   54   25  109   71]\n",
      " [ 158 1399   72   25   37   65   43   14  207   16]\n",
      " [ 100  137 1605   22    0  105   42    9   29   47]\n",
      " [ 336   23   23 4532  131   14   58    5   16  138]\n",
      " [ 198   18    0   26 3475   11    9   19   18   14]\n",
      " [ 121  100  162   16   12 4935   44   11    5   11]\n",
      " [ 122   88   82   77   51   55 6094   23   59   65]\n",
      " [  25   34    3    1   37    4   26 6494   38    5]\n",
      " [ 123  137   49    9   23   13   62   16 5785   33]\n",
      " [  65   27   40   43   17    9   24    7   16 4312]]\n"
     ]
    },
    {
     "data": {
      "image/png": "[encoded data removed]",
      "text/plain": [
       "<Figure size 640x480 with 1 Axes>"
      ]
     },
     "metadata": {},
     "output_type": "display_data"
    },
    {
     "data": {
      "image/png": "[encoded data removed]",
      "text/plain": [
       "<Figure size 640x480 with 1 Axes>"
      ]
     },
     "metadata": {},
     "output_type": "display_data"
    }
   ],
   "source": [
    "trainer = Trainer(model, criterion, optimizer, device=device)\n",
    "\n",
    "# train \n",
    "trainer.fit(train_loader, val_loader, epochs=epochs, save_path=\"best_model.pt\", patience = patience_epoch)\n",
    "\n",
    "# Test\n",
    "trainer.evaluate(test_loader, label_encoder=le, model_path=\"best_model.pt\")\n",
    "\n",
    "# plot\n",
    "trainer.plot_curves()"
   ]
  },
  {
   "cell_type": "code",
   "execution_count": null,
   "id": "686b6f1d",
   "metadata": {},
   "outputs": [
    {
     "name": "stdout",
     "output_type": "stream",
     "text": [
      "Bộ Y tế công bố ca bệnh mới liên quan đến dịch cúm.  -->  Khoa hoc\n",
      "Bộ giáo dục quyết định cải cách.  -->  Phap luat\n"
     ]
    }
   ],
   "source": [
    "def predict(text):\n",
    "    ids = torch.tensor([vocab.numericalize(text)], dtype=torch.long).to(device)\n",
    "    lengths = torch.tensor([len(ids[0])], dtype=torch.long).to(device)\n",
    "\n",
    "    with torch.no_grad():\n",
    "        logits = model(ids, lengths)\n",
    "        pred = logits.argmax(1).item()\n",
    "    \n",
    "    return le.inverse_transform([pred])[0]\n",
    "\n",
    "sample_texts = [\n",
    "    \"Bộ Y tế công bố ca bệnh mới liên quan đến dịch cúm.\",\n",
    "    \"Bộ giáo dục quyết định cải cách.\"\n",
    "]\n",
    "\n",
    "for txt in sample_texts:\n",
    "    print(f\"{txt}  -->  {predict(txt)}\")"
   ]
  }
 ],
 "metadata": {
  "kaggle": {
   "accelerator": "gpu",
   "dataSources": [
    {
     "datasetId": 8231574,
     "sourceId": 13002866,
     "sourceType": "datasetVersion"
    },
    {
     "datasetId": 8231577,
     "sourceId": 13002872,
     "sourceType": "datasetVersion"
    },
    {
     "datasetId": 8231701,
     "sourceId": 13003073,
     "sourceType": "datasetVersion"
    },
    {
     "datasetId": 8232236,
     "sourceId": 13003842,
     "sourceType": "datasetVersion"
    }
   ],
   "dockerImageVersionId": 31089,
   "isGpuEnabled": true,
   "isInternetEnabled": true,
   "language": "python",
   "sourceType": "notebook"
  },
  "kernelspec": {
   "display_name": "Python 3",
   "language": "python",
   "name": "python3"
  },
  "language_info": {
   "codemirror_mode": {
    "name": "ipython",
    "version": 3
   },
   "file_extension": ".py",
   "mimetype": "text/x-python",
   "name": "python",
   "nbconvert_exporter": "python",
   "pygments_lexer": "ipython3",
   "version": "3.10.8"
  }
 },
 "nbformat": 4,
 "nbformat_minor": 5
}
